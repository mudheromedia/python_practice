{
 "cells": [
  {
   "cell_type": "code",
   "execution_count": 1,
   "id": "78dc49e6",
   "metadata": {},
   "outputs": [],
   "source": [
    "name = \"Omolewa Adaramola\""
   ]
  },
  {
   "cell_type": "code",
   "execution_count": 2,
   "id": "15719ddf",
   "metadata": {},
   "outputs": [
    {
     "data": {
      "text/plain": [
       "'Omolewa Adaramola'"
      ]
     },
     "execution_count": 2,
     "metadata": {},
     "output_type": "execute_result"
    }
   ],
   "source": [
    "name"
   ]
  },
  {
   "cell_type": "code",
   "execution_count": 3,
   "id": "db944fb9",
   "metadata": {},
   "outputs": [
    {
     "data": {
      "text/plain": [
       "['Omolewa', 'Adaramola']"
      ]
     },
     "execution_count": 3,
     "metadata": {},
     "output_type": "execute_result"
    }
   ],
   "source": [
    "name.split()"
   ]
  },
  {
   "cell_type": "code",
   "execution_count": 4,
   "id": "dba0a99a",
   "metadata": {},
   "outputs": [
    {
     "data": {
      "text/plain": [
       "'w'"
      ]
     },
     "execution_count": 4,
     "metadata": {},
     "output_type": "execute_result"
    }
   ],
   "source": [
    "name[5]"
   ]
  },
  {
   "cell_type": "code",
   "execution_count": 5,
   "id": "96d735ed",
   "metadata": {},
   "outputs": [
    {
     "data": {
      "text/plain": [
       "' '"
      ]
     },
     "execution_count": 5,
     "metadata": {},
     "output_type": "execute_result"
    }
   ],
   "source": [
    "name[7]"
   ]
  },
  {
   "cell_type": "markdown",
   "id": "1374fda6",
   "metadata": {},
   "source": [
    "### Splicing"
   ]
  },
  {
   "cell_type": "code",
   "execution_count": null,
   "id": "2ad9b727",
   "metadata": {},
   "outputs": [],
   "source": [
    "name[start:stop:step]"
   ]
  },
  {
   "cell_type": "code",
   "execution_count": 6,
   "id": "1203f4fa",
   "metadata": {},
   "outputs": [
    {
     "data": {
      "text/plain": [
       "'lewa'"
      ]
     },
     "execution_count": 6,
     "metadata": {},
     "output_type": "execute_result"
    }
   ],
   "source": [
    "name[3:7]"
   ]
  },
  {
   "cell_type": "code",
   "execution_count": 7,
   "id": "3f24c7b7",
   "metadata": {},
   "outputs": [
    {
     "data": {
      "text/plain": [
       "'me a'"
      ]
     },
     "execution_count": 7,
     "metadata": {},
     "output_type": "execute_result"
    }
   ],
   "source": [
    "name[1:13:3]"
   ]
  },
  {
   "cell_type": "code",
   "execution_count": 8,
   "id": "1765c5ca",
   "metadata": {},
   "outputs": [
    {
     "data": {
      "text/plain": [
       "'Omolewa Adaramola'"
      ]
     },
     "execution_count": 8,
     "metadata": {},
     "output_type": "execute_result"
    }
   ],
   "source": [
    "name"
   ]
  },
  {
   "cell_type": "code",
   "execution_count": 9,
   "id": "47224055",
   "metadata": {},
   "outputs": [
    {
     "data": {
      "text/plain": [
       "'a'"
      ]
     },
     "execution_count": 9,
     "metadata": {},
     "output_type": "execute_result"
    }
   ],
   "source": [
    "name[-1]"
   ]
  },
  {
   "cell_type": "code",
   "execution_count": 11,
   "id": "a59d1777",
   "metadata": {},
   "outputs": [
    {
     "data": {
      "text/plain": [
       "'eaAaaoa'"
      ]
     },
     "execution_count": 11,
     "metadata": {},
     "output_type": "execute_result"
    }
   ],
   "source": [
    "name[4::2]"
   ]
  },
  {
   "cell_type": "code",
   "execution_count": 10,
   "id": "f128efb3",
   "metadata": {},
   "outputs": [
    {
     "data": {
      "text/plain": [
       "'alomaradA awelomO'"
      ]
     },
     "execution_count": 10,
     "metadata": {},
     "output_type": "execute_result"
    }
   ],
   "source": [
    "name[::-1]"
   ]
  },
  {
   "cell_type": "code",
   "execution_count": 12,
   "id": "55bc996b",
   "metadata": {},
   "outputs": [
    {
     "data": {
      "text/plain": [
       "str"
      ]
     },
     "execution_count": 12,
     "metadata": {},
     "output_type": "execute_result"
    }
   ],
   "source": [
    "type(name)"
   ]
  },
  {
   "cell_type": "markdown",
   "id": "f94ad576",
   "metadata": {},
   "source": [
    "## List"
   ]
  },
  {
   "cell_type": "code",
   "execution_count": 13,
   "id": "4993d433",
   "metadata": {},
   "outputs": [
    {
     "data": {
      "text/plain": [
       "[2, 4, 19, 20]"
      ]
     },
     "execution_count": 13,
     "metadata": {},
     "output_type": "execute_result"
    }
   ],
   "source": [
    "[2, 4, 19, 20]"
   ]
  },
  {
   "cell_type": "code",
   "execution_count": 14,
   "id": "f43dfd1f",
   "metadata": {},
   "outputs": [],
   "source": [
    "nums = [2, 4, 19, 20]"
   ]
  },
  {
   "cell_type": "code",
   "execution_count": 15,
   "id": "59e70c63",
   "metadata": {},
   "outputs": [
    {
     "data": {
      "text/plain": [
       "[2, 4, 19, 20]"
      ]
     },
     "execution_count": 15,
     "metadata": {},
     "output_type": "execute_result"
    }
   ],
   "source": [
    "nums"
   ]
  },
  {
   "cell_type": "code",
   "execution_count": 16,
   "id": "f7cd042c",
   "metadata": {},
   "outputs": [
    {
     "data": {
      "text/plain": [
       "2"
      ]
     },
     "execution_count": 16,
     "metadata": {},
     "output_type": "execute_result"
    }
   ],
   "source": [
    "nums[0]"
   ]
  },
  {
   "cell_type": "code",
   "execution_count": 17,
   "id": "a7695aa2",
   "metadata": {},
   "outputs": [
    {
     "data": {
      "text/plain": [
       "20"
      ]
     },
     "execution_count": 17,
     "metadata": {},
     "output_type": "execute_result"
    }
   ],
   "source": [
    "nums[-1]"
   ]
  },
  {
   "cell_type": "code",
   "execution_count": 18,
   "id": "05e0fea4",
   "metadata": {},
   "outputs": [
    {
     "data": {
      "text/plain": [
       "19"
      ]
     },
     "execution_count": 18,
     "metadata": {},
     "output_type": "execute_result"
    }
   ],
   "source": [
    "nums[-2]"
   ]
  },
  {
   "cell_type": "code",
   "execution_count": 19,
   "id": "276d1d85",
   "metadata": {},
   "outputs": [],
   "source": [
    "name1 = \"ify\"\n",
    "name2 = \"omolewa\""
   ]
  },
  {
   "cell_type": "code",
   "execution_count": 20,
   "id": "fc17820e",
   "metadata": {},
   "outputs": [
    {
     "data": {
      "text/plain": [
       "'y'"
      ]
     },
     "execution_count": 20,
     "metadata": {},
     "output_type": "execute_result"
    }
   ],
   "source": [
    "name1[2]"
   ]
  },
  {
   "cell_type": "code",
   "execution_count": 22,
   "id": "205cd964",
   "metadata": {},
   "outputs": [
    {
     "data": {
      "text/plain": [
       "'a'"
      ]
     },
     "execution_count": 22,
     "metadata": {},
     "output_type": "execute_result"
    }
   ],
   "source": [
    "name2[-1]"
   ]
  },
  {
   "cell_type": "code",
   "execution_count": 23,
   "id": "51c989e6",
   "metadata": {},
   "outputs": [
    {
     "data": {
      "text/plain": [
       "[2, 4, 19, 20]"
      ]
     },
     "execution_count": 23,
     "metadata": {},
     "output_type": "execute_result"
    }
   ],
   "source": [
    "nums"
   ]
  },
  {
   "cell_type": "code",
   "execution_count": 24,
   "id": "9a3e0c21",
   "metadata": {},
   "outputs": [],
   "source": [
    "nums.append(20000)"
   ]
  },
  {
   "cell_type": "code",
   "execution_count": 25,
   "id": "4702444c",
   "metadata": {},
   "outputs": [
    {
     "data": {
      "text/plain": [
       "[2, 4, 19, 20, 20000]"
      ]
     },
     "execution_count": 25,
     "metadata": {},
     "output_type": "execute_result"
    }
   ],
   "source": [
    "nums"
   ]
  },
  {
   "cell_type": "code",
   "execution_count": 26,
   "id": "a4bca118",
   "metadata": {},
   "outputs": [
    {
     "data": {
      "text/plain": [
       "1"
      ]
     },
     "execution_count": 26,
     "metadata": {},
     "output_type": "execute_result"
    }
   ],
   "source": [
    "nums.count(20000)"
   ]
  },
  {
   "cell_type": "code",
   "execution_count": 27,
   "id": "c3f079d5",
   "metadata": {},
   "outputs": [],
   "source": [
    "numsnums = [1, 2, 3, 4, 5]"
   ]
  },
  {
   "cell_type": "code",
   "execution_count": 30,
   "id": "988685ff",
   "metadata": {},
   "outputs": [],
   "source": [
    "nums.insert(1, numsnums)"
   ]
  },
  {
   "cell_type": "code",
   "execution_count": 31,
   "id": "31d7c7fc",
   "metadata": {},
   "outputs": [
    {
     "data": {
      "text/plain": [
       "[2, [1, 2, 3, 4, 5], 4, 19, 20, 20000]"
      ]
     },
     "execution_count": 31,
     "metadata": {},
     "output_type": "execute_result"
    }
   ],
   "source": [
    "nums"
   ]
  },
  {
   "cell_type": "code",
   "execution_count": 32,
   "id": "bbcd41cb",
   "metadata": {},
   "outputs": [],
   "source": [
    "nums = [2, 4, 19, 20]"
   ]
  },
  {
   "cell_type": "code",
   "execution_count": 33,
   "id": "ce57bd9f",
   "metadata": {},
   "outputs": [],
   "source": [
    "nums.append(numsnums)"
   ]
  },
  {
   "cell_type": "code",
   "execution_count": 34,
   "id": "a04a117d",
   "metadata": {},
   "outputs": [
    {
     "data": {
      "text/plain": [
       "[2, 4, 19, 20, [1, 2, 3, 4, 5]]"
      ]
     },
     "execution_count": 34,
     "metadata": {},
     "output_type": "execute_result"
    }
   ],
   "source": [
    "nums"
   ]
  },
  {
   "cell_type": "code",
   "execution_count": 36,
   "id": "bdf4d4ba",
   "metadata": {},
   "outputs": [
    {
     "data": {
      "text/plain": [
       "[1, 2, 3, 4, 5]"
      ]
     },
     "execution_count": 36,
     "metadata": {},
     "output_type": "execute_result"
    }
   ],
   "source": [
    "nums[4]"
   ]
  },
  {
   "cell_type": "code",
   "execution_count": 37,
   "id": "cd3bc012",
   "metadata": {},
   "outputs": [],
   "source": [
    "nums = [2, 4, 19, 20]"
   ]
  },
  {
   "cell_type": "code",
   "execution_count": 38,
   "id": "0abf2823",
   "metadata": {},
   "outputs": [],
   "source": [
    "nums.extend(numsnums)"
   ]
  },
  {
   "cell_type": "code",
   "execution_count": 39,
   "id": "da50c212",
   "metadata": {},
   "outputs": [
    {
     "data": {
      "text/plain": [
       "[2, 4, 19, 20, 1, 2, 3, 4, 5]"
      ]
     },
     "execution_count": 39,
     "metadata": {},
     "output_type": "execute_result"
    }
   ],
   "source": [
    "nums"
   ]
  },
  {
   "cell_type": "code",
   "execution_count": 40,
   "id": "e961c585",
   "metadata": {},
   "outputs": [
    {
     "data": {
      "text/plain": [
       "19"
      ]
     },
     "execution_count": 40,
     "metadata": {},
     "output_type": "execute_result"
    }
   ],
   "source": [
    "nums.pop(2)"
   ]
  },
  {
   "cell_type": "code",
   "execution_count": 41,
   "id": "3f2057ba",
   "metadata": {},
   "outputs": [
    {
     "data": {
      "text/plain": [
       "[2, 4, 20, 1, 2, 3, 4, 5]"
      ]
     },
     "execution_count": 41,
     "metadata": {},
     "output_type": "execute_result"
    }
   ],
   "source": [
    "nums"
   ]
  },
  {
   "cell_type": "code",
   "execution_count": 42,
   "id": "3221c576",
   "metadata": {},
   "outputs": [],
   "source": [
    "nums.remove(5)"
   ]
  },
  {
   "cell_type": "code",
   "execution_count": 43,
   "id": "d9bede5c",
   "metadata": {},
   "outputs": [
    {
     "data": {
      "text/plain": [
       "[2, 4, 20, 1, 2, 3, 4]"
      ]
     },
     "execution_count": 43,
     "metadata": {},
     "output_type": "execute_result"
    }
   ],
   "source": [
    "nums"
   ]
  },
  {
   "cell_type": "code",
   "execution_count": 44,
   "id": "107b6dc8",
   "metadata": {},
   "outputs": [],
   "source": [
    "names = ['Omolewa', \"ify\"]"
   ]
  },
  {
   "cell_type": "code",
   "execution_count": 45,
   "id": "7d011144",
   "metadata": {},
   "outputs": [],
   "source": [
    "names.remove(\"ify\")"
   ]
  },
  {
   "cell_type": "code",
   "execution_count": 46,
   "id": "bfbcfd70",
   "metadata": {},
   "outputs": [
    {
     "data": {
      "text/plain": [
       "['Omolewa']"
      ]
     },
     "execution_count": 46,
     "metadata": {},
     "output_type": "execute_result"
    }
   ],
   "source": [
    "names"
   ]
  },
  {
   "cell_type": "code",
   "execution_count": 47,
   "id": "568c7faf",
   "metadata": {},
   "outputs": [
    {
     "data": {
      "text/plain": [
       "'Omolewa'"
      ]
     },
     "execution_count": 47,
     "metadata": {},
     "output_type": "execute_result"
    }
   ],
   "source": [
    "names.pop(0)"
   ]
  },
  {
   "cell_type": "code",
   "execution_count": 48,
   "id": "d8abe653",
   "metadata": {},
   "outputs": [
    {
     "data": {
      "text/plain": [
       "[]"
      ]
     },
     "execution_count": 48,
     "metadata": {},
     "output_type": "execute_result"
    }
   ],
   "source": [
    "names"
   ]
  },
  {
   "cell_type": "code",
   "execution_count": 49,
   "id": "d98af41c",
   "metadata": {},
   "outputs": [],
   "source": [
    "names = ['Omolewa', \"ify\"]"
   ]
  },
  {
   "cell_type": "code",
   "execution_count": 50,
   "id": "333be09f",
   "metadata": {},
   "outputs": [
    {
     "data": {
      "text/plain": [
       "'ify'"
      ]
     },
     "execution_count": 50,
     "metadata": {},
     "output_type": "execute_result"
    }
   ],
   "source": [
    "names.pop()"
   ]
  },
  {
   "cell_type": "code",
   "execution_count": 51,
   "id": "0bf20b48",
   "metadata": {},
   "outputs": [
    {
     "data": {
      "text/plain": [
       "['Omolewa']"
      ]
     },
     "execution_count": 51,
     "metadata": {},
     "output_type": "execute_result"
    }
   ],
   "source": [
    "names"
   ]
  },
  {
   "cell_type": "code",
   "execution_count": 52,
   "id": "3963b8c5",
   "metadata": {},
   "outputs": [],
   "source": [
    "lis = []"
   ]
  },
  {
   "cell_type": "code",
   "execution_count": 53,
   "id": "a2af4397",
   "metadata": {},
   "outputs": [],
   "source": [
    "lis.append(\"omolewa\")"
   ]
  },
  {
   "cell_type": "code",
   "execution_count": 54,
   "id": "46941ac8",
   "metadata": {},
   "outputs": [
    {
     "data": {
      "text/plain": [
       "['omolewa']"
      ]
     },
     "execution_count": 54,
     "metadata": {},
     "output_type": "execute_result"
    }
   ],
   "source": [
    "lis"
   ]
  },
  {
   "cell_type": "code",
   "execution_count": 55,
   "id": "646eb3cb",
   "metadata": {},
   "outputs": [],
   "source": [
    "lis.append(\"ify\")"
   ]
  },
  {
   "cell_type": "code",
   "execution_count": 56,
   "id": "aed62d8b",
   "metadata": {},
   "outputs": [
    {
     "data": {
      "text/plain": [
       "['omolewa', 'ify']"
      ]
     },
     "execution_count": 56,
     "metadata": {},
     "output_type": "execute_result"
    }
   ],
   "source": [
    "lis"
   ]
  },
  {
   "cell_type": "code",
   "execution_count": 57,
   "id": "ae589340",
   "metadata": {},
   "outputs": [],
   "source": [
    "lis.append(100000)"
   ]
  },
  {
   "cell_type": "code",
   "execution_count": 58,
   "id": "570885ae",
   "metadata": {},
   "outputs": [
    {
     "data": {
      "text/plain": [
       "['omolewa', 'ify', 100000]"
      ]
     },
     "execution_count": 58,
     "metadata": {},
     "output_type": "execute_result"
    }
   ],
   "source": [
    "lis"
   ]
  },
  {
   "cell_type": "code",
   "execution_count": 59,
   "id": "1a2b5641",
   "metadata": {},
   "outputs": [],
   "source": [
    "name = \"ify\""
   ]
  },
  {
   "cell_type": "code",
   "execution_count": 60,
   "id": "1d466454",
   "metadata": {},
   "outputs": [
    {
     "data": {
      "text/plain": [
       "'ifyifyifyifyifyifyifyifyifyify'"
      ]
     },
     "execution_count": 60,
     "metadata": {},
     "output_type": "execute_result"
    }
   ],
   "source": [
    "name * 10"
   ]
  },
  {
   "cell_type": "code",
   "execution_count": 61,
   "id": "6ce4961a",
   "metadata": {},
   "outputs": [
    {
     "ename": "TypeError",
     "evalue": "can only concatenate str (not \"int\") to str",
     "output_type": "error",
     "traceback": [
      "\u001b[1;31m---------------------------------------------------------------------------\u001b[0m",
      "\u001b[1;31mTypeError\u001b[0m                                 Traceback (most recent call last)",
      "\u001b[1;32m~\\AppData\\Local\\Temp\\ipykernel_9244\\3004308386.py\u001b[0m in \u001b[0;36m<module>\u001b[1;34m\u001b[0m\n\u001b[1;32m----> 1\u001b[1;33m \u001b[0mname\u001b[0m \u001b[1;33m+\u001b[0m \u001b[1;36m10\u001b[0m\u001b[1;33m\u001b[0m\u001b[1;33m\u001b[0m\u001b[0m\n\u001b[0m",
      "\u001b[1;31mTypeError\u001b[0m: can only concatenate str (not \"int\") to str"
     ]
    }
   ],
   "source": [
    "name + 10"
   ]
  },
  {
   "cell_type": "code",
   "execution_count": 62,
   "id": "dc9cb151",
   "metadata": {},
   "outputs": [
    {
     "data": {
      "text/plain": [
       "'ifyify'"
      ]
     },
     "execution_count": 62,
     "metadata": {},
     "output_type": "execute_result"
    }
   ],
   "source": [
    "name + name # concatenation"
   ]
  },
  {
   "cell_type": "code",
   "execution_count": 63,
   "id": "41aabf97",
   "metadata": {},
   "outputs": [
    {
     "data": {
      "text/plain": [
       "'ify ify'"
      ]
     },
     "execution_count": 63,
     "metadata": {},
     "output_type": "execute_result"
    }
   ],
   "source": [
    "name + \" \" + name"
   ]
  },
  {
   "cell_type": "code",
   "execution_count": null,
   "id": "ec595ed7",
   "metadata": {},
   "outputs": [],
   "source": []
  }
 ],
 "metadata": {
  "kernelspec": {
   "display_name": "Python 3 (ipykernel)",
   "language": "python",
   "name": "python3"
  },
  "language_info": {
   "codemirror_mode": {
    "name": "ipython",
    "version": 3
   },
   "file_extension": ".py",
   "mimetype": "text/x-python",
   "name": "python",
   "nbconvert_exporter": "python",
   "pygments_lexer": "ipython3",
   "version": "3.9.13"
  }
 },
 "nbformat": 4,
 "nbformat_minor": 5
}
